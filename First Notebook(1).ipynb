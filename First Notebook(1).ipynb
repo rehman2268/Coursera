{
  "metadata": {
    "kernelspec": {
      "name": "python",
      "display_name": "Python (Pyodide)",
      "language": "python"
    },
    "language_info": {
      "codemirror_mode": {
        "name": "python",
        "version": 3
      },
      "file_extension": ".py",
      "mimetype": "text/x-python",
      "name": "python",
      "nbconvert_exporter": "python",
      "pygments_lexer": "ipython3",
      "version": "3.8"
    }
  },
  "nbformat_minor": 4,
  "nbformat": 4,
  "cells": [
    {
      "cell_type": "markdown",
      "source": "# **I Am Trying To Make Calulator**\n",
      "metadata": {}
    },
    {
      "cell_type": "markdown",
      "source": "**Hi, I'm Abdul Rehman**",
      "metadata": {}
    },
    {
      "cell_type": "markdown",
      "source": "1. First item using dashes\n2. Second item using dashes\n3. Third item using dashes\n4. Fourth item using dashes",
      "metadata": {}
    },
    {
      "cell_type": "markdown",
      "source": "### Data Science Libraries in Python\n\n1. **Pandas:** Library for data manipulation and analysis, provides data structures like DataFrame.\n2. **NumPy:** Fundamental package for numerical computing with powerful array operations.\n3. **Matplotlib:** Library for creating static, interactive, and animated visualizations.\n4. **Seaborn:** Based on Matplotlib, provides high-level interface for attractive statistical graphics.\n5. **Scikit-Learn:** Machine learning library offering simple and efficient tools for data mining and analysis.\n6. **TensorFlow:** Open-source machine learning framework by Google for building and training ML models.\n7. **Keras:** High-level neural networks API running on top of TensorFlow or Theano.\n8. **PyTorch:** Deep learning framework with flexible and intuitive functionalities.\n",
      "metadata": {}
    },
    {
      "cell_type": "markdown",
      "source": "| Tool            | Description                                              |\n|-----------------|----------------------------------------------------------|\n| Pandas          | Data manipulation and analysis library in Python           |\n| NumPy           | Fundamental package for numerical computations in Python  |\n| Matplotlib      | Library for creating visualizations in Python              |\n| Seaborn         | Statistical data visualization based on Matplotlib         |\n| Scikit-Learn    | Machine learning library providing various algorithms     |\n| TensorFlow      | Open-source deep learning framework by Google              |\n| Keras           | High-level neural networks API running on TensorFlow       |\n| PyTorch         | Deep learning library with flexible functionalities       |\n| SQL             | Language for managing and querying relational databases   |\n| R               | Statistical programming language for data analysis        |",
      "metadata": {}
    },
    {
      "cell_type": "markdown",
      "source": "### Arithmetic Expressions Examples\n\nArithmetic expressions involve mathematical operations like addition, subtraction, multiplication, and division. Here are some examples:\n\n1. **Addition:** `5 + 3 = 8`\n2. **Subtraction:** `10 - 4 = 6`\n3. **Multiplication:** `2 * 6 = 12`\n4. **Division:** `15 / 3 = 5`\n",
      "metadata": {}
    },
    {
      "cell_type": "code",
      "source": "# Multiply and Add Numbers\nnum1 = 5\nnum2 = 3\n\n# Multiplication\nresult_multiply = num1 * num2\nprint(\"Multiplication Result:\", result_multiply)\n\n# Addition\nresult_add = num1 + num2\nprint(\"Addition Result:\", result_add)\n",
      "metadata": {
        "trusted": true
      },
      "outputs": [
        {
          "name": "stdout",
          "text": "Multiplication Result: 15\nAddition Result: 8\n",
          "output_type": "stream"
        }
      ],
      "execution_count": 1
    },
    {
      "cell_type": "code",
      "source": "# Convert Minutes to Hours\nminutes = 120\n\n# Conversion\nhours = minutes / 60\n\n# Display Result\nprint(f\"{minutes} minutes is equal to {hours} hours\")\n",
      "metadata": {
        "trusted": true
      },
      "outputs": [
        {
          "name": "stdout",
          "text": "120 minutes is equal to 2.0 hours\n",
          "output_type": "stream"
        }
      ],
      "execution_count": 4
    },
    {
      "cell_type": "markdown",
      "source": "### Objectives\n\n1. Gain proficiency in Python programming for data science.\n2. Understand fundamental data science concepts like data manipulation, analysis, and visualization.\n3. Explore machine learning algorithms and their implementation using Python libraries.\n4. Develop skills in working with real-world datasets and applying learned techniques.\n5. Build a strong foundation in statistics and its application in data science.\n6. Create projects to showcase acquired skills and knowledge.\n7. Stay updated with industry trends and best practices in data science.\n",
      "metadata": {}
    },
    {
      "cell_type": "markdown",
      "source": "Author: Abdul Rehman",
      "metadata": {}
    },
    {
      "cell_type": "markdown",
      "source": "[Click Me](www.Youtube.com)",
      "metadata": {}
    },
    {
      "cell_type": "markdown",
      "source": "<www.Youtube.com>",
      "metadata": {}
    },
    {
      "cell_type": "markdown",
      "source": "logo: ![HATZS Logo](data:image/jpeg;base64,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)",
      "metadata": {}
    },
    {
      "cell_type": "markdown",
      "source": "| Country Name | Capital |\n| -------------| ------ |\n|Pakistain| Islamabad|\n| United States | Washington DC |\n| Australia | Canberra |\n| India | New Delhi |",
      "metadata": {}
    },
    {
      "cell_type": "markdown",
      "source": "- First item using dashes\n- Second item using dashes\n- Third item using dashes\n- Fourth item using dashes\n\n* First item using asterisks\n* Second item using asterisks\n* Third item using asterisks\n* Fourth item using asterisks\n\n+ First item using plus\n+ Second item using plus\n+ Third item using plus\n+ Fourth item using plus",
      "metadata": {}
    },
    {
      "cell_type": "markdown",
      "source": "1. First item\n2. Second item\n3. Third item\n4. Fourth item\n5. fifth item\n6. sixth item",
      "metadata": {}
    },
    {
      "cell_type": "markdown",
      "source": "## **Welcome to Python Programming**",
      "metadata": {}
    },
    {
      "cell_type": "markdown",
      "source": "This is SN labs New Launcher: ![This is SN labs New Launcher](https://media.geeksforgeeks.org/wp-content/cdn-uploads/20230110150101/Python-programming-examples.gif)",
      "metadata": {}
    },
    {
      "cell_type": "markdown",
      "source": "[**Tools For Data Science**](https://www.coursera.org/learn/open-source-tools-for-data-science/home)",
      "metadata": {}
    },
    {
      "cell_type": "markdown",
      "source": "|Fruit| Quantity(Kg)|Price (in Rupee)|\n|-----|-------------|----------------|\n|Apple|2|500|\n|Orange|1|200|\n|Mango|3|1000|\n|Grapes|2|400|",
      "metadata": {}
    },
    {
      "cell_type": "markdown",
      "source": "1. Python\n2. Java\n3. C++\n4. C",
      "metadata": {}
    },
    {
      "cell_type": "code",
      "source": "a = input(\"enter the Frist Number\")\nb = input(\"enter the secod Number\")\nc = input(\"For Multuple *, For Addition +, For Division /, For Subtraction -\")\nif c == \"+\":\n    result = a+b\n    print(result)\nelif c == \"-\":\n    result = a-b\n    print(result)\nelif c == \"/\":\n    result = a/b\n    print(result)\nelif c == \"*\":\n    result = a*b\n    print(result)\nelse:\n    print(\"Not Correct\")",
      "metadata": {
        "trusted": true
      },
      "outputs": [],
      "execution_count": null
    },
    {
      "cell_type": "code",
      "source": "",
      "metadata": {
        "trusted": true
      },
      "outputs": [],
      "execution_count": null
    }
  ]
}